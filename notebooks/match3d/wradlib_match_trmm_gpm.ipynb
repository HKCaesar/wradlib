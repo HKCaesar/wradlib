{
 "cells": [
  {
   "cell_type": "markdown",
   "metadata": {
    "nbsphinx": "hidden"
   },
   "source": [
    "This notebook is part of the $\\omega radlib$  documentation: http://wradlib.org/wradlib-docs.\n",
    "\n",
    "Copyright (c) 2016, $\\omega radlib$  developers.\n",
    "Distributed under the MIT License. See LICENSE.txt for more info."
   ]
  },
  {
   "cell_type": "markdown",
   "metadata": {},
   "source": [
    "# Match spaceborn PR (GPM/TRMM) with ground radars"
   ]
  },
  {
   "cell_type": "markdown",
   "metadata": {},
   "source": [
    "The main objective is to compute the average reflectivity of high-resolution ground radar sweeps over TRMM/GPM PR bins. IDL code had been provided by Rob Warren based on Schwaller and Morris (2011). This notebook will provide a playground to port this to wradlib"
   ]
  },
  {
   "cell_type": "code",
   "execution_count": null,
   "metadata": {
    "collapsed": true
   },
   "outputs": [],
   "source": [
    "import wradlib as wradlib\n",
    "import matplotlib.pyplot as pl\n",
    "import matplotlib as mpl\n",
    "import warnings\n",
    "warnings.filterwarnings('ignore')\n",
    "try:\n",
    "    get_ipython().magic(\"matplotlib inline\")\n",
    "except:\n",
    "    pl.ion()\n",
    "import numpy as np"
   ]
  },
  {
   "cell_type": "markdown",
   "metadata": {},
   "source": [
    "#### Writing functions that can be imported\n",
    "\n",
    "In order to keep the notebook tidy and to avoid merge conflicts, you can put new functions in external Python module files and then import them into the notebook. Just put the Python files into the same directory as the notebook. Later, we can decide how to integrate these functions into wradlib modules. See the example module `external` with the function `hello_world` "
   ]
  },
  {
   "cell_type": "code",
   "execution_count": null,
   "metadata": {
    "collapsed": false
   },
   "outputs": [],
   "source": [
    "import external\n",
    "external.hello_world()"
   ]
  },
  {
   "cell_type": "markdown",
   "metadata": {},
   "source": [
    "#### Overview of available sample data for GPM, TRMM and matching ground radar"
   ]
  },
  {
   "cell_type": "code",
   "execution_count": null,
   "metadata": {
    "collapsed": false
   },
   "outputs": [],
   "source": [
    "# define GPM data set\n",
    "gpm_file = wradlib.util.get_wradlib_data_file('gpm/2A-RW-BRS.GPM.Ku.V6-20160118.20141206-S095002-E095137.004383.V04A.HDF5')\n",
    "\n",
    "# define matching ground radar file\n",
    "gr2gpm_file = wradlib.util.get_wradlib_data_file('hdf5/IDR66_20141206_094829.vol.h5')\n",
    "\n",
    "# define TRMM data sets\n",
    "trmm_2A23_file = wradlib.util.get_wradlib_data_file('trmm/2A-RW-BRS.TRMM.PR.2A23.20100206-S111422-E111519.069662.7.HDF')\n",
    "trmm_2A25_file = wradlib.util.get_wradlib_data_file('trmm/2A-RW-BRS.TRMM.PR.2A25.20100206-S111422-E111519.069662.7.HDF')\n",
    "\n",
    "# define matching ground radar file\n",
    "gr2trmm_file = wradlib.util.get_wradlib_data_file('hdf5/IDR66_20100206_111233.vol.h5')"
   ]
  },
  {
   "cell_type": "markdown",
   "metadata": {},
   "source": [
    "#### Read and organize the data"
   ]
  },
  {
   "cell_type": "code",
   "execution_count": null,
   "metadata": {
    "collapsed": false
   },
   "outputs": [],
   "source": [
    "# read spaceborn PR data\n",
    "import io_func\n",
    "#pr_data = io_func.read_gpm(gpm_file)\n",
    "pr_data = io_func.read_trmm(trmm_2A23_file, trmm_2A25_file)\n",
    "# read matching GR data\n",
    "#gr_data = wradlib.io.read_generic_hdf5(gr2gpm_file)\n",
    "gr_data = wradlib.io.read_generic_hdf5(gr2trmm_file)"
   ]
  },
  {
   "cell_type": "code",
   "execution_count": null,
   "metadata": {
    "collapsed": false
   },
   "outputs": [],
   "source": [
    "# need `conda install traitsui`\n",
    "# nice dictionary inspection\n",
    "import wtraits\n",
    "wtraits.dictedit(pr_data)"
   ]
  },
  {
   "cell_type": "code",
   "execution_count": null,
   "metadata": {
    "collapsed": false,
    "scrolled": true
   },
   "outputs": [],
   "source": [
    "import vis_func\n",
    "import os\n",
    "\n",
    "cmp_path = '/local/kai/progs/volmatch/GPM_example/'\n",
    "cmp_file = os.path.join(cmp_path, '20141206094829_004383.nc')\n",
    "\n",
    "vis_func.comparison(cmp_file)\n",
    "pl.show()"
   ]
  }
 ],
 "metadata": {
  "celltoolbar": "Edit Metadata",
  "kernelspec": {
   "display_name": "Python 2",
   "language": "python",
   "name": "python2"
  },
  "language_info": {
   "codemirror_mode": {
    "name": "ipython",
    "version": 2
   },
   "file_extension": ".py",
   "mimetype": "text/x-python",
   "name": "python",
   "nbconvert_exporter": "python",
   "pygments_lexer": "ipython2",
   "version": "2.7.12"
  }
 },
 "nbformat": 4,
 "nbformat_minor": 0
}
